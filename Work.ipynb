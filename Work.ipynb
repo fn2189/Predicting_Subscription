{
 "cells": [
  {
   "cell_type": "markdown",
   "metadata": {},
   "source": [
    "# Import Libraries"
   ]
  },
  {
   "cell_type": "code",
   "execution_count": 1,
   "metadata": {
    "collapsed": false
   },
   "outputs": [],
   "source": [
    "%matplotlib inline\n",
    "import warnings\n",
    "warnings.simplefilter('ignore')\n",
    "\n",
    "import numpy as np\n",
    "import pandas as pd\n",
    "from matplotlib import pyplot as plt\n",
    "\n",
    "from sklearn.preprocessing import LabelEncoder\n",
    "from sklearn.preprocessing import OneHotEncoder\n",
    "from sklearn.preprocessing import Imputer\n",
    "from sklearn.preprocessing import StandardScaler\n",
    "from sklearn.preprocessing import MinMaxScaler\n",
    "from sklearn.preprocessing import PolynomialFeatures\n",
    "from sklearn.preprocessing import FunctionTransformer\n",
    "\n",
    "from imblearn.over_sampling import SMOTE\n",
    "from imblearn.under_sampling import RandomUnderSampler\n",
    "from imblearn.under_sampling import EditedNearestNeighbours\n",
    "\n",
    "from sklearn.feature_selection import mutual_info_classif\n",
    "from sklearn.feature_selection import SelectKBest\n",
    "from sklearn.feature_selection import RFECV\n",
    "from sklearn.feature_selection import RFE\n",
    "\n",
    "from sklearn.model_selection import train_test_split\n",
    "from sklearn.model_selection import GridSearchCV\n",
    "from sklearn.model_selection import cross_val_predict\n",
    "from sklearn.model_selection import cross_val_score\n",
    "\n",
    "from sklearn.svm import SVC\n",
    "from sklearn.linear_model import LogisticRegression\n",
    "from sklearn.linear_model import SGDClassifier\n",
    "\n",
    "from sklearn.ensemble import AdaBoostClassifier\n",
    "from sklearn.ensemble import RandomForestClassifier\n",
    "from sklearn.ensemble import VotingClassifier\n",
    "from sklearn.ensemble import GradientBoostingClassifier\n",
    "\n",
    "from sklearn.neighbors import KNeighborsClassifier\n",
    "from sklearn_pandas import DataFrameMapper\n",
    "from sklearn.pipeline import Pipeline\n",
    "from sklearn.metrics import roc_auc_score\n",
    "\n",
    "from sklearn.decomposition import PCA\n",
    "from imblearn.pipeline import make_pipeline as make_imb_pipeline\n",
    "from sklearn.tree import DecisionTreeClassifier\n",
    "from sklearn.kernel_approximation import RBFSampler\n",
    "from sklearn.calibration import CalibratedClassifierCV"
   ]
  },
  {
   "cell_type": "markdown",
   "metadata": {},
   "source": [
    "# Loading of the Data"
   ]
  },
  {
   "cell_type": "code",
   "execution_count": 2,
   "metadata": {
    "collapsed": false
   },
   "outputs": [
    {
     "data": {
      "text/html": [
       "<div>\n",
       "<style>\n",
       "    .dataframe thead tr:only-child th {\n",
       "        text-align: right;\n",
       "    }\n",
       "\n",
       "    .dataframe thead th {\n",
       "        text-align: left;\n",
       "    }\n",
       "\n",
       "    .dataframe tbody tr th {\n",
       "        vertical-align: top;\n",
       "    }\n",
       "</style>\n",
       "<table border=\"1\" class=\"dataframe\">\n",
       "  <thead>\n",
       "    <tr style=\"text-align: right;\">\n",
       "      <th></th>\n",
       "      <th>age</th>\n",
       "      <th>job</th>\n",
       "      <th>marital_status</th>\n",
       "      <th>education</th>\n",
       "      <th>credit_default</th>\n",
       "      <th>housing</th>\n",
       "      <th>loan</th>\n",
       "      <th>contact</th>\n",
       "      <th>month</th>\n",
       "      <th>day_of_week</th>\n",
       "      <th>...</th>\n",
       "      <th>campaign</th>\n",
       "      <th>prev_days</th>\n",
       "      <th>prev_contacts</th>\n",
       "      <th>prev_outcomes</th>\n",
       "      <th>emp_var_rate</th>\n",
       "      <th>cons_price_idx</th>\n",
       "      <th>cons_conf_idx</th>\n",
       "      <th>euribor3m</th>\n",
       "      <th>nr_employed</th>\n",
       "      <th>subscribed</th>\n",
       "    </tr>\n",
       "  </thead>\n",
       "  <tbody>\n",
       "    <tr>\n",
       "      <th>0</th>\n",
       "      <td>41.0</td>\n",
       "      <td>blue-collar</td>\n",
       "      <td>married</td>\n",
       "      <td>basic.9y</td>\n",
       "      <td>no</td>\n",
       "      <td>yes</td>\n",
       "      <td>no</td>\n",
       "      <td>cellular</td>\n",
       "      <td>apr</td>\n",
       "      <td>mon</td>\n",
       "      <td>...</td>\n",
       "      <td>2.0</td>\n",
       "      <td>999</td>\n",
       "      <td>0</td>\n",
       "      <td>nonexistent</td>\n",
       "      <td>-1.695118</td>\n",
       "      <td>92.698705</td>\n",
       "      <td>-46.727552</td>\n",
       "      <td>1.345160</td>\n",
       "      <td>5097.0</td>\n",
       "      <td>no</td>\n",
       "    </tr>\n",
       "    <tr>\n",
       "      <th>1</th>\n",
       "      <td>46.0</td>\n",
       "      <td>entrepreneur</td>\n",
       "      <td>married</td>\n",
       "      <td>unknown</td>\n",
       "      <td>no</td>\n",
       "      <td>no</td>\n",
       "      <td>no</td>\n",
       "      <td>cellular</td>\n",
       "      <td>may</td>\n",
       "      <td>wed</td>\n",
       "      <td>...</td>\n",
       "      <td>2.0</td>\n",
       "      <td>999</td>\n",
       "      <td>0</td>\n",
       "      <td>nonexistent</td>\n",
       "      <td>-1.767159</td>\n",
       "      <td>92.914878</td>\n",
       "      <td>-46.313088</td>\n",
       "      <td>1.314499</td>\n",
       "      <td>5100.0</td>\n",
       "      <td>no</td>\n",
       "    </tr>\n",
       "    <tr>\n",
       "      <th>2</th>\n",
       "      <td>56.0</td>\n",
       "      <td>unemployed</td>\n",
       "      <td>married</td>\n",
       "      <td>basic.9y</td>\n",
       "      <td>no</td>\n",
       "      <td>yes</td>\n",
       "      <td>yes</td>\n",
       "      <td>cellular</td>\n",
       "      <td>nov</td>\n",
       "      <td>fri</td>\n",
       "      <td>...</td>\n",
       "      <td>1.0</td>\n",
       "      <td>999</td>\n",
       "      <td>0</td>\n",
       "      <td>nonexistent</td>\n",
       "      <td>-0.100365</td>\n",
       "      <td>93.423076</td>\n",
       "      <td>-41.904559</td>\n",
       "      <td>4.003471</td>\n",
       "      <td>5193.0</td>\n",
       "      <td>no</td>\n",
       "    </tr>\n",
       "    <tr>\n",
       "      <th>3</th>\n",
       "      <td>89.0</td>\n",
       "      <td>retired</td>\n",
       "      <td>divorced</td>\n",
       "      <td>basic.4y</td>\n",
       "      <td>no</td>\n",
       "      <td>yes</td>\n",
       "      <td>no</td>\n",
       "      <td>cellular</td>\n",
       "      <td>may</td>\n",
       "      <td>wed</td>\n",
       "      <td>...</td>\n",
       "      <td>4.0</td>\n",
       "      <td>999</td>\n",
       "      <td>0</td>\n",
       "      <td>nonexistent</td>\n",
       "      <td>-1.771314</td>\n",
       "      <td>93.672814</td>\n",
       "      <td>-46.045500</td>\n",
       "      <td>1.261668</td>\n",
       "      <td>5100.0</td>\n",
       "      <td>no</td>\n",
       "    </tr>\n",
       "    <tr>\n",
       "      <th>4</th>\n",
       "      <td>34.0</td>\n",
       "      <td>entrepreneur</td>\n",
       "      <td>married</td>\n",
       "      <td>university.degree</td>\n",
       "      <td>unknown</td>\n",
       "      <td>yes</td>\n",
       "      <td>no</td>\n",
       "      <td>cellular</td>\n",
       "      <td>jul</td>\n",
       "      <td>thu</td>\n",
       "      <td>...</td>\n",
       "      <td>8.0</td>\n",
       "      <td>999</td>\n",
       "      <td>0</td>\n",
       "      <td>nonexistent</td>\n",
       "      <td>1.458103</td>\n",
       "      <td>94.296285</td>\n",
       "      <td>-42.455877</td>\n",
       "      <td>5.152077</td>\n",
       "      <td>5233.0</td>\n",
       "      <td>no</td>\n",
       "    </tr>\n",
       "  </tbody>\n",
       "</table>\n",
       "<p>5 rows × 21 columns</p>\n",
       "</div>"
      ],
      "text/plain": [
       "    age           job marital_status          education credit_default  \\\n",
       "0  41.0   blue-collar        married           basic.9y             no   \n",
       "1  46.0  entrepreneur        married            unknown             no   \n",
       "2  56.0    unemployed        married           basic.9y             no   \n",
       "3  89.0       retired       divorced           basic.4y             no   \n",
       "4  34.0  entrepreneur        married  university.degree        unknown   \n",
       "\n",
       "  housing loan   contact month day_of_week     ...      campaign  prev_days  \\\n",
       "0     yes   no  cellular   apr         mon     ...           2.0        999   \n",
       "1      no   no  cellular   may         wed     ...           2.0        999   \n",
       "2     yes  yes  cellular   nov         fri     ...           1.0        999   \n",
       "3     yes   no  cellular   may         wed     ...           4.0        999   \n",
       "4     yes   no  cellular   jul         thu     ...           8.0        999   \n",
       "\n",
       "   prev_contacts  prev_outcomes emp_var_rate  cons_price_idx  cons_conf_idx  \\\n",
       "0              0    nonexistent    -1.695118       92.698705     -46.727552   \n",
       "1              0    nonexistent    -1.767159       92.914878     -46.313088   \n",
       "2              0    nonexistent    -0.100365       93.423076     -41.904559   \n",
       "3              0    nonexistent    -1.771314       93.672814     -46.045500   \n",
       "4              0    nonexistent     1.458103       94.296285     -42.455877   \n",
       "\n",
       "   euribor3m  nr_employed  subscribed  \n",
       "0   1.345160       5097.0          no  \n",
       "1   1.314499       5100.0          no  \n",
       "2   4.003471       5193.0          no  \n",
       "3   1.261668       5100.0          no  \n",
       "4   5.152077       5233.0          no  \n",
       "\n",
       "[5 rows x 21 columns]"
      ]
     },
     "execution_count": 2,
     "metadata": {},
     "output_type": "execute_result"
    }
   ],
   "source": [
    "data = pd.read_csv('./data/data.csv')\n",
    "holdout = pd.read_csv('./data/holdout.csv')\n",
    "ID = holdout[['ID']].copy().astype(int)\n",
    "del holdout['ID']\n",
    "data.head()"
   ]
  },
  {
   "cell_type": "code",
   "execution_count": 3,
   "metadata": {
    "collapsed": false
   },
   "outputs": [
    {
     "name": "stdout",
     "output_type": "stream",
     "text": [
      "job : {'housemaid', 'blue-collar', 'technician', 'unknown', 'retired', 'self-employed', 'unemployed', 'services', 'admin.', 'management', 'student', 'entrepreneur'}\n",
      "marital_status : {'married', 'divorced', 'unknown', 'single'}\n",
      "education : {'unknown', 'professional.course', 'basic.4y', 'high.school', 'basic.6y', 'basic.9y', 'illiterate', 'university.degree'}\n",
      "credit_default : {'no', 'unknown', 'yes'}\n",
      "housing : {'yes', 'unknown', 'no'}\n",
      "loan : {'no', 'unknown', 'yes'}\n",
      "contact : {'cellular', 'telephone'}\n",
      "month : {'jul', 'nov', 'oct', 'dec', 'jun', 'may', 'aug', 'mar', 'sep', 'apr'}\n",
      "day_of_week : {'mon', 'thu', 'wed', 'tue', 'fri'}\n",
      "prev_contacts : {0, 1, 2, 3, 4, 5, 6, 7}\n",
      "prev_outcomes : {'success', 'failure', 'nonexistent'}\n",
      "subscribed : {'no', 'yes'}\n"
     ]
    }
   ],
   "source": [
    "for f in data.columns:\n",
    "    if len(set(data[f])) < 20:\n",
    "        print(\"{} : {}\".format(f, set(data[f])))"
   ]
  },
  {
   "cell_type": "markdown",
   "metadata": {},
   "source": [
    "# Exploration and Preparation\n",
    "\n",
    "In this step, we look into the data and try to understand it before modeling. ."
   ]
  },
  {
   "cell_type": "markdown",
   "metadata": {},
   "source": [
    "## Exploration"
   ]
  },
  {
   "cell_type": "markdown",
   "metadata": {},
   "source": [
    "Plotting Continuous variables against the target, then Categorical Variables"
   ]
  },
  {
   "cell_type": "code",
   "execution_count": 4,
   "metadata": {
    "collapsed": true
   },
   "outputs": [],
   "source": [
    "def remove_unwanted_features(X):\n",
    "    if('duration' in list(X.columns)):\n",
    "        del X['duration']"
   ]
  },
  {
   "cell_type": "markdown",
   "metadata": {},
   "source": [
    "We are going to stat by removing the unwanted, irrelevant features.\n",
    "We are also going to separate the discrete and continuous features that we might have to process differently. Finally, we are going te see the ratio of positive example in the dataset."
   ]
  },
  {
   "cell_type": "code",
   "execution_count": 5,
   "metadata": {
    "collapsed": false
   },
   "outputs": [
    {
     "data": {
      "text/plain": [
       "0.12695806826732334"
      ]
     },
     "execution_count": 5,
     "metadata": {},
     "output_type": "execute_result"
    }
   ],
   "source": [
    "features = list(data.keys())#.remove('subscribed')\n",
    "#print(features)\n",
    "features.remove('subscribed')\n",
    "X = data[features]\n",
    "#remove duration which won't be available\n",
    "remove_unwanted_features(X)\n",
    "remove_unwanted_features(holdout)\n",
    "features = list(X.keys())\n",
    "\n",
    "y = data['subscribed']\n",
    "y = y.apply(lambda x: 1 if x == 'yes' else 0)\n",
    "cat_features = ['contact', 'credit_default', 'day_of_week', 'housing', 'job', 'loan', 'marital_status', 'month'\n",
    "               , 'prev_outcomes', 'education', 'prev_contacts' ]\n",
    "continuous_features = list(set(list(X.keys())) - set(cat_features))\n",
    "y.loc[y == 1].count()/ y.loc[y == 0].count()"
   ]
  },
  {
   "cell_type": "code",
   "execution_count": 6,
   "metadata": {
    "collapsed": false
   },
   "outputs": [
    {
     "data": {
      "image/png": "[encoded data removed]",
      "text/plain": [
       "<matplotlib.figure.Figure at 0x1fa3bdcb0f0>"
      ]
     },
     "metadata": {},
     "output_type": "display_data"
    }
   ],
   "source": [
    "##plotting histograms for the continuous features\n",
    "f, axarr = plt.subplots(3,3, figsize=(20, 12))\n",
    "for i in range(len(continuous_features)):\n",
    "    axarr[i //3, i%3].hist(X[continuous_features[i]][y == 0].dropna(), alpha = .5, color = 'r', normed = 1 )\n",
    "    axarr[i //3, i%3].hist(X[continuous_features[i]][y == 1].dropna(), alpha = .5, color = 'g', normed = 1 )#\n",
    "    axarr[i //3, i%3].set_title(\"{} : {}\".format(i, continuous_features[i]))\n",
    "\n",
    "    \n",
    "plt.show()"
   ]
  },
  {
   "cell_type": "markdown",
   "metadata": {},
   "source": [
    "### Encoding categorical \n",
    "\n",
    "The categorical features need to encoded using integers instead of string to comply with the scikit learn framework"
   ]
  },
  {
   "cell_type": "code",
   "execution_count": 7,
   "metadata": {
    "collapsed": true
   },
   "outputs": [],
   "source": [
    "discrete_features_index = [i for i, j in enumerate(features) if j in cat_features]\n",
    "def label_encoding(X):\n",
    "    X_encoded = X.copy()\n",
    "    for f in cat_features:\n",
    "        le = LabelEncoder()\n",
    "        X_encoded[f] = le.fit_transform(X_encoded[f])\n",
    "    return X_encoded"
   ]
  },
  {
   "cell_type": "code",
   "execution_count": 8,
   "metadata": {
    "collapsed": false
   },
   "outputs": [
    {
     "data": {
      "text/plain": [
       "Index(['contact', 'credit_default', 'day_of_week', 'housing', 'job', 'loan',\n",
       "       'marital_status', 'month', 'prev_outcomes', 'education',\n",
       "       'prev_contacts', 'prev_days', 'age', 'cons_price_idx', 'cons_conf_idx',\n",
       "       'emp_var_rate', 'campaign', 'nr_employed', 'euribor3m'],\n",
       "      dtype='object')"
      ]
     },
     "execution_count": 8,
     "metadata": {},
     "output_type": "execute_result"
    }
   ],
   "source": [
    "X = X[cat_features + continuous_features]\n",
    "X_encoded = label_encoding(X)\n",
    "X_encoded.columns"
   ]
  },
  {
   "cell_type": "code",
   "execution_count": 9,
   "metadata": {
    "collapsed": false
   },
   "outputs": [
    {
     "data": {
      "image/png": "[encoded data removed]",
      "text/plain": [
       "<matplotlib.figure.Figure at 0x1fa3d210518>"
      ]
     },
     "metadata": {},
     "output_type": "display_data"
    }
   ],
   "source": [
    "#Plotting the discrete features\n",
    "f, axarr = plt.subplots(4,3, figsize=(20, 16))\n",
    "for i in range(len(cat_features)):\n",
    "    axarr[i //3, i%3].hist(X_encoded[cat_features[i]][y == 0].dropna(), alpha = .5, color = 'r', normed = 1 )\n",
    "    axarr[i //3, i%3].hist(X_encoded[cat_features[i]][y == 1].dropna(), alpha = .5, color = 'g', normed = 1 )\n",
    "    axarr[i //3, i%3].set_title(\"{} : {}\".format(i, cat_features[i]))\n",
    "\n",
    "    \n",
    "plt.show()"
   ]
  },
  {
   "cell_type": "markdown",
   "metadata": {},
   "source": [
    "### Dimensionnality Reduction using PCA (use of Count Base encoding to encode Categorical variables)"
   ]
  },
  {
   "cell_type": "markdown",
   "metadata": {},
   "source": [
    "#### Count-based encoding\n",
    "We created our own implementation of the count-based encoding which is going to \n",
    "replace the differents classes of the features by the proportion of positive example in that class. For the test set, if there is a feature that is not observed the count proportion will just be 0"
   ]
  },
  {
   "cell_type": "code",
   "execution_count": 10,
   "metadata": {
    "collapsed": true
   },
   "outputs": [],
   "source": [
    "def count_enc(X_train, X_test, y_train, cat_features):\n",
    "    X_train_enc = X_train.copy()\n",
    "    X_test_enc = X_test.copy()\n",
    "    y_temp = pd.DataFrame(y_train, columns = ['subscribed'])\n",
    "    data_train = pd.concat([X_train_enc, y_temp], axis=1, join='inner')\n",
    "    for i in range(len(cat_features)):\n",
    "        counts = data_train.groupby([cat_features[i]], as_index=False)['subscribed'].mean()\n",
    "        data_train['{}_enc'.format(cat_features[i])] = data_train[[cat_features[i]]].applymap(lambda x : counts['subscribed'][x] if x in list(counts.index) else 0)\n",
    "\n",
    "        X_test_enc['{}_enc'.format(cat_features[i])] = X_test_enc[[cat_features[i]]].applymap(lambda x : counts['subscribed'][x] if x in list(counts.index) else 0)\n",
    "\n",
    "        del data_train[cat_features[i]]\n",
    "        del X_test_enc[cat_features[i]]\n",
    "    features_enc = list(data_train.keys())\n",
    "    features_enc.remove('subscribed')\n",
    "    X_train_enc = data_train[features_enc]\n",
    "    X_train_enc.shape, X_test_enc.shape\n",
    "    \n",
    "    return X_train_enc, X_test_enc"
   ]
  },
  {
   "cell_type": "markdown",
   "metadata": {},
   "source": [
    "#### PCA "
   ]
  },
  {
   "cell_type": "code",
   "execution_count": 11,
   "metadata": {
    "collapsed": false
   },
   "outputs": [],
   "source": [
    "X_train, X_test, y_train, y_test = train_test_split(X_encoded,y, stratify=y)  \n",
    "X_train_enc, X_test_enc = count_enc(X_train, X_test, y_train, cat_features)\n",
    "X_plot= pd.DataFrame(PCA(n_components=2).fit_transform(X_train_enc), columns = ['0', '1'])"
   ]
  },
  {
   "cell_type": "code",
   "execution_count": 12,
   "metadata": {
    "collapsed": false
   },
   "outputs": [
    {
     "data": {
      "image/png": "[encoded data removed]",
      "text/plain": [
       "<matplotlib.figure.Figure at 0x1fa3dd9dbe0>"
      ]
     },
     "metadata": {},
     "output_type": "display_data"
    }
   ],
   "source": [
    "pos = np.array(y.loc[y==1].index.tolist())\n",
    "neg = np.array(y.loc[y==0].index.tolist())\n",
    "plt.scatter(X_plot['0'][neg], X_plot['1'][neg], color = 'r')\n",
    "plt.scatter(X_plot['0'][pos], X_plot['1'][pos], color = 'g')\n",
    "plt.xlabel('PC 1')\n",
    "plt.ylabel('PC 2')\n",
    "plt.title('Original data projected on the first two principal components')\n",
    "plt.show()"
   ]
  },
  {
   "cell_type": "markdown",
   "metadata": {},
   "source": [
    "## Preparation"
   ]
  },
  {
   "cell_type": "markdown",
   "metadata": {},
   "source": [
    "In terms of data preparation, we started by binning the feature 'prev_days' to make it a categorical feature. Indeed, the value 999 wasn't on the same scale as the other values, as it meant 'No previous call'. After realizing that, although it makes more sense like that, it didn't increase our models, we removed it from the preprocessing tasks.\n",
    "\n",
    "We have basically tried the following preprocessing tasks, then run them on the different models:\n",
    "\n",
    "1. Count-based encoding\n",
    "\n",
    "2. OneHot Encoding\n",
    "\n",
    "3. OneHot Encoding + Feature Selection (top 20 using Mutual Info)\n",
    "\n",
    "4. OneHot Encoding + Feature Selection (top 13 using Mutual Information / KBest) + Polynomial Expansion\n",
    "\n",
    "Please note that, when fitting the tree-based models, we didn't encode the data using OneHot or Count Based, but simply encoding the different classes into integers. When fitting ensemble models combining both linear and tree-based models, we had to make all features continuous, using OneHot or Count-based.\n",
    "\n",
    "\n",
    "Basically, after trying these preprocessing combinations, we realized that the OneHot encoding only was the most efficient. Right after, we looked again at the data and tried the following: Many categorical features had 'unknown' classes: \"job, marital_status, education, credit_default, housing, loan\". We imputed the values using a model-based imputation with kNN and RandomForest. It actually improved our roc-auc scores.\n",
    "\n",
    "Eventually, the final preprocessing set up is: \n",
    "\n",
    "1. Get rid of the 'duration' feature\n",
    "\n",
    "2. Encode all categorical features to strings using LabelEncoder\n",
    "\n",
    "3. Impute categorical features with 'unknown' as a class\n",
    "\n",
    "4. Encode all categorical features using OneHot encoding\n",
    "\n",
    "Below is the different functions used while trying all these preprocessing options."
   ]
  },
  {
   "cell_type": "markdown",
   "metadata": {},
   "source": [
    "### Transform feature 'prev_days' into bins"
   ]
  },
  {
   "cell_type": "code",
   "execution_count": 13,
   "metadata": {
    "collapsed": false
   },
   "outputs": [],
   "source": [
    "def digitize(X):\n",
    "    data = X.copy()\n",
    "    data['prev_days_bins'] = data['prev_days'].copy()\n",
    "    prev_days = data['prev_days']\n",
    "    bins = [  0.  ,   6.75,  13.5 ,  20.25,  27. , 1000 ] \n",
    "    data['prev_days_bins'] = np.digitize(prev_days.values, bins = bins)\n",
    "    del data['prev_days']\n",
    "    return data"
   ]
  },
  {
   "cell_type": "markdown",
   "metadata": {},
   "source": [
    "## Details of the 4th proprecessing task"
   ]
  },
  {
   "cell_type": "markdown",
   "metadata": {},
   "source": [
    "We encode the dataset. The downside of using this for feature selection is that it is a little bit hard to go back to the features names."
   ]
  },
  {
   "cell_type": "code",
   "execution_count": 14,
   "metadata": {
    "collapsed": false
   },
   "outputs": [],
   "source": [
    "oh = OneHotEncoder(categorical_features = range(11), sparse=False, handle_unknown='ignore')\n",
    "#pipe = Pipeline([('oh', oh)])\n",
    "X_rdy = pd.DataFrame(oh.fit_transform(X_encoded))"
   ]
  },
  {
   "cell_type": "markdown",
   "metadata": {},
   "source": [
    "Then compute the Mutual Information"
   ]
  },
  {
   "cell_type": "code",
   "execution_count": 15,
   "metadata": {
    "collapsed": false
   },
   "outputs": [],
   "source": [
    "mi = mutual_info_classif(X_rdy, y)\n",
    "mi_index = [list(mi).index(f) for f in sorted(mi)]\n",
    "sorted_col = X_rdy.columns[mi_index]\n"
   ]
  },
  {
   "cell_type": "code",
   "execution_count": 16,
   "metadata": {
    "collapsed": false
   },
   "outputs": [
    {
     "data": {
      "image/png": "[encoded data removed]",
      "text/plain": [
       "<matplotlib.figure.Figure at 0x1fa3be67400>"
      ]
     },
     "metadata": {},
     "output_type": "display_data"
    }
   ],
   "source": [
    "plt.figure(figsize=(10, 15))\n",
    "plt.barh(np.arange(len(mi)), sorted(mi))\n",
    "plt.axvline(x=0.013, c='r')\n",
    "plt.title('Mutual Information on the OneHot encoded dataset')\n",
    "plt.xlabel('Mutual Information with target y')\n",
    "plt.ylabel('Feature')\n",
    "plt.yticks(np.arange(len(mi)), sorted_col);"
   ]
  },
  {
   "cell_type": "markdown",
   "metadata": {},
   "source": [
    "We only keep features that have a Mutual Information >= 0.013"
   ]
  },
  {
   "cell_type": "code",
   "execution_count": 17,
   "metadata": {
    "collapsed": false
   },
   "outputs": [],
   "source": [
    "colnames = X_rdy.columns\n",
    "for f in range(len(mi)):\n",
    "    if mi[f] < 0.013:\n",
    "        del X_rdy[colnames[f]]"
   ]
  },
  {
   "cell_type": "markdown",
   "metadata": {},
   "source": [
    "Then proceed with the polynomial expansion"
   ]
  },
  {
   "cell_type": "code",
   "execution_count": 18,
   "metadata": {
    "collapsed": false
   },
   "outputs": [],
   "source": [
    "poly = PolynomialFeatures(2)\n",
    "X_poly = pd.DataFrame(poly.fit_transform(X_rdy))"
   ]
  },
  {
   "cell_type": "markdown",
   "metadata": {},
   "source": [
    "Then re-compute the Mutual Information"
   ]
  },
  {
   "cell_type": "code",
   "execution_count": 19,
   "metadata": {
    "collapsed": false
   },
   "outputs": [],
   "source": [
    "mi_poly = mutual_info_classif(X_poly, y)\n",
    "mi_poly_index = [list(mi_poly).index(f) for f in sorted(mi_poly)]\n",
    "sorted_col_poly = X_poly.columns[mi_poly_index]"
   ]
  },
  {
   "cell_type": "code",
   "execution_count": 20,
   "metadata": {
    "collapsed": false
   },
   "outputs": [
    {
     "data": {
      "image/png": "[encoded data removed]",
      "text/plain": [
       "<matplotlib.figure.Figure at 0x1fa3bf29ac8>"
      ]
     },
     "metadata": {},
     "output_type": "display_data"
    }
   ],
   "source": [
    "plt.figure(figsize=(10, 15))\n",
    "plt.barh(np.arange(len(mi_poly)), sorted(mi_poly))\n",
    "plt.axvline(x=0.02, c='r')\n",
    "plt.title('Mutual Information on the Polynomial Expanded - OneHot encoded dataset')\n",
    "plt.xlabel('Mutual Information with target y')\n",
    "plt.ylabel('Feature')\n",
    "plt.yticks(np.arange(len(mi_poly)), sorted_col_poly);"
   ]
  },
  {
   "cell_type": "markdown",
   "metadata": {},
   "source": [
    "When comparing the two graphs, the processed dataset has a higher average mutual information. We thus tend to believe that the features carry more information so as to better predict on y. However, in the end, it didn't improve the predictions. Maybe because either these features are too correlated, either because the polynomial expansion brought noise to the data. We haven't had time nor the need to investigate on that question, unfortunately"
   ]
  },
  {
   "cell_type": "markdown",
   "metadata": {},
   "source": [
    "# Models\n",
    "\n",
    "The data is preprocessed as follows: \n",
    "\n",
    "1. Get rid of the 'duration' feature\n",
    "\n",
    "2. Encode all categorical features to strings using LabelEncoder\n",
    "\n",
    "3. Encode all categorical features using OneHot encoding\n",
    "\n",
    "Then, we train different classification models to try and achieve the best performance.\n",
    "The metric we choose for performance is the roc_auc, with is more meaningful than the accuracy for imbalance datasets"
   ]
  },
  {
   "cell_type": "markdown",
   "metadata": {},
   "source": [
    "### Preprocessing"
   ]
  },
  {
   "cell_type": "code",
   "execution_count": 24,
   "metadata": {
    "collapsed": false
   },
   "outputs": [],
   "source": [
    "#Integer encoding of the categorical features using label encoder\n",
    "discrete_features_index = [i for i, j in enumerate(features) if j in cat_features]\n",
    "def label_encoding_imput(X, holdout):\n",
    "    X_encoded = X.copy()\n",
    "    holdout_encoded = holdout.copy()\n",
    "    for f in cat_features:\n",
    "        le = LabelEncoder()\n",
    "        X_encoded[f] = le.fit_transform(X_encoded[f])\n",
    "        holdout_encoded[f] = le.transform(holdout_encoded[f])\n",
    "        #if 'unknown' in set(X[f]):\n",
    "        #    v = le.transform(['unknown'])[0]\n",
    "        #    X_encoded[f] = X_encoded[f].replace([v], np.nan)\n",
    "        #    holdout_encoded[f] = holdout_encoded[f].replace([v],np.nan)\n",
    "        \n",
    "    return X_encoded, holdout_encoded\n",
    "X_temp = digitize(X)\n",
    "X_encoded, holdout_encoded = label_encoding_imput(X_temp, holdout)"
   ]
  },
  {
   "cell_type": "code",
   "execution_count": 26,
   "metadata": {
    "collapsed": false
   },
   "outputs": [
    {
     "data": {
      "text/html": [
       "<div>\n",
       "<style>\n",
       "    .dataframe thead tr:only-child th {\n",
       "        text-align: right;\n",
       "    }\n",
       "\n",
       "    .dataframe thead th {\n",
       "        text-align: left;\n",
       "    }\n",
       "\n",
       "    .dataframe tbody tr th {\n",
       "        vertical-align: top;\n",
       "    }\n",
       "</style>\n",
       "<table border=\"1\" class=\"dataframe\">\n",
       "  <thead>\n",
       "    <tr style=\"text-align: right;\">\n",
       "      <th></th>\n",
       "      <th>contact</th>\n",
       "      <th>credit_default</th>\n",
       "      <th>day_of_week</th>\n",
       "      <th>housing</th>\n",
       "      <th>job</th>\n",
       "      <th>loan</th>\n",
       "      <th>marital_status</th>\n",
       "      <th>month</th>\n",
       "      <th>prev_outcomes</th>\n",
       "      <th>education</th>\n",
       "      <th>prev_contacts</th>\n",
       "      <th>age</th>\n",
       "      <th>cons_price_idx</th>\n",
       "      <th>cons_conf_idx</th>\n",
       "      <th>emp_var_rate</th>\n",
       "      <th>campaign</th>\n",
       "      <th>nr_employed</th>\n",
       "      <th>euribor3m</th>\n",
       "      <th>prev_days_bins</th>\n",
       "    </tr>\n",
       "  </thead>\n",
       "  <tbody>\n",
       "    <tr>\n",
       "      <th>0</th>\n",
       "      <td>0</td>\n",
       "      <td>0</td>\n",
       "      <td>1</td>\n",
       "      <td>2</td>\n",
       "      <td>1</td>\n",
       "      <td>0</td>\n",
       "      <td>1</td>\n",
       "      <td>0</td>\n",
       "      <td>1</td>\n",
       "      <td>2</td>\n",
       "      <td>0</td>\n",
       "      <td>41.0</td>\n",
       "      <td>92.698705</td>\n",
       "      <td>-46.727552</td>\n",
       "      <td>-1.695118</td>\n",
       "      <td>2.0</td>\n",
       "      <td>5097.0</td>\n",
       "      <td>1.345160</td>\n",
       "      <td>5</td>\n",
       "    </tr>\n",
       "    <tr>\n",
       "      <th>1</th>\n",
       "      <td>0</td>\n",
       "      <td>0</td>\n",
       "      <td>4</td>\n",
       "      <td>0</td>\n",
       "      <td>2</td>\n",
       "      <td>0</td>\n",
       "      <td>1</td>\n",
       "      <td>6</td>\n",
       "      <td>1</td>\n",
       "      <td>7</td>\n",
       "      <td>0</td>\n",
       "      <td>46.0</td>\n",
       "      <td>92.914878</td>\n",
       "      <td>-46.313088</td>\n",
       "      <td>-1.767159</td>\n",
       "      <td>2.0</td>\n",
       "      <td>5100.0</td>\n",
       "      <td>1.314499</td>\n",
       "      <td>5</td>\n",
       "    </tr>\n",
       "    <tr>\n",
       "      <th>2</th>\n",
       "      <td>0</td>\n",
       "      <td>0</td>\n",
       "      <td>0</td>\n",
       "      <td>2</td>\n",
       "      <td>10</td>\n",
       "      <td>2</td>\n",
       "      <td>1</td>\n",
       "      <td>7</td>\n",
       "      <td>1</td>\n",
       "      <td>2</td>\n",
       "      <td>0</td>\n",
       "      <td>56.0</td>\n",
       "      <td>93.423076</td>\n",
       "      <td>-41.904559</td>\n",
       "      <td>-0.100365</td>\n",
       "      <td>1.0</td>\n",
       "      <td>5193.0</td>\n",
       "      <td>4.003471</td>\n",
       "      <td>5</td>\n",
       "    </tr>\n",
       "    <tr>\n",
       "      <th>3</th>\n",
       "      <td>0</td>\n",
       "      <td>0</td>\n",
       "      <td>4</td>\n",
       "      <td>2</td>\n",
       "      <td>5</td>\n",
       "      <td>0</td>\n",
       "      <td>0</td>\n",
       "      <td>6</td>\n",
       "      <td>1</td>\n",
       "      <td>0</td>\n",
       "      <td>0</td>\n",
       "      <td>89.0</td>\n",
       "      <td>93.672814</td>\n",
       "      <td>-46.045500</td>\n",
       "      <td>-1.771314</td>\n",
       "      <td>4.0</td>\n",
       "      <td>5100.0</td>\n",
       "      <td>1.261668</td>\n",
       "      <td>5</td>\n",
       "    </tr>\n",
       "    <tr>\n",
       "      <th>4</th>\n",
       "      <td>0</td>\n",
       "      <td>1</td>\n",
       "      <td>2</td>\n",
       "      <td>2</td>\n",
       "      <td>2</td>\n",
       "      <td>0</td>\n",
       "      <td>1</td>\n",
       "      <td>3</td>\n",
       "      <td>1</td>\n",
       "      <td>6</td>\n",
       "      <td>0</td>\n",
       "      <td>34.0</td>\n",
       "      <td>94.296285</td>\n",
       "      <td>-42.455877</td>\n",
       "      <td>1.458103</td>\n",
       "      <td>8.0</td>\n",
       "      <td>5233.0</td>\n",
       "      <td>5.152077</td>\n",
       "      <td>5</td>\n",
       "    </tr>\n",
       "  </tbody>\n",
       "</table>\n",
       "</div>"
      ],
      "text/plain": [
       "   contact  credit_default  day_of_week  housing  job  loan  marital_status  \\\n",
       "0        0               0            1        2    1     0               1   \n",
       "1        0               0            4        0    2     0               1   \n",
       "2        0               0            0        2   10     2               1   \n",
       "3        0               0            4        2    5     0               0   \n",
       "4        0               1            2        2    2     0               1   \n",
       "\n",
       "   month  prev_outcomes  education  prev_contacts   age  cons_price_idx  \\\n",
       "0      0              1          2              0  41.0       92.698705   \n",
       "1      6              1          7              0  46.0       92.914878   \n",
       "2      7              1          2              0  56.0       93.423076   \n",
       "3      6              1          0              0  89.0       93.672814   \n",
       "4      3              1          6              0  34.0       94.296285   \n",
       "\n",
       "   cons_conf_idx  emp_var_rate  campaign  nr_employed  euribor3m  \\\n",
       "0     -46.727552     -1.695118       2.0       5097.0   1.345160   \n",
       "1     -46.313088     -1.767159       2.0       5100.0   1.314499   \n",
       "2     -41.904559     -0.100365       1.0       5193.0   4.003471   \n",
       "3     -46.045500     -1.771314       4.0       5100.0   1.261668   \n",
       "4     -42.455877      1.458103       8.0       5233.0   5.152077   \n",
       "\n",
       "   prev_days_bins  \n",
       "0               5  \n",
       "1               5  \n",
       "2               5  \n",
       "3               5  \n",
       "4               5  "
      ]
     },
     "execution_count": 26,
     "metadata": {},
     "output_type": "execute_result"
    }
   ],
   "source": [
    "X_encoded.head()"
   ]
  },
  {
   "cell_type": "code",
   "execution_count": 27,
   "metadata": {
    "collapsed": true
   },
   "outputs": [],
   "source": [
    "X_train, X_test, y_train, y_test = train_test_split(X_imputed, y, stratify=y)"
   ]
  },
  {
   "cell_type": "markdown",
   "metadata": {},
   "source": [
    "### SGD Classifier"
   ]
  },
  {
   "cell_type": "code",
   "execution_count": 62,
   "metadata": {
    "collapsed": false
   },
   "outputs": [
    {
     "data": {
      "text/plain": [
       "({'sgd__alpha': 0.001, 'sgd__loss': 'log', 'sgd__penalty': 'l1'},\n",
       " 0.79166891085836832)"
      ]
     },
     "execution_count": 62,
     "metadata": {},
     "output_type": "execute_result"
    }
   ],
   "source": [
    "oh = OneHotEncoder(categorical_features = range(8, len(X_train.columns)), sparse=False, handle_unknown='ignore')\n",
    "scaler = MinMaxScaler()\n",
    "sgd = SGDClassifier()\n",
    "\n",
    "pipe = Pipeline([('oh', oh), ('scaler', scaler), ('sgd', sgd)])\n",
    "param_grid = {'sgd__alpha' : np.logspace(-3,2,6),\n",
    "             'sgd__loss': ['hinge', 'log','modified_huber'],\n",
    "             'sgd__penalty': ['l2', 'l1', 'elasticnet']}\n",
    "\n",
    "grid = GridSearchCV(pipe, param_grid = param_grid, cv=5, scoring='roc_auc')\n",
    "grid.fit(X_train, y_train)\n",
    "grid.best_params_, grid.best_score_"
   ]
  },
  {
   "cell_type": "code",
   "execution_count": 63,
   "metadata": {
    "collapsed": false
   },
   "outputs": [
    {
     "name": "stdout",
     "output_type": "stream",
     "text": [
      "roc_auc score on test set: 0.788\n"
     ]
    }
   ],
   "source": [
    "oh = OneHotEncoder(categorical_features = range(11), sparse=False, handle_unknown='ignore')\n",
    "scaler = MinMaxScaler()\n",
    "sgd = SGDClassifier(alpha=0.001, loss='log', penalty='l1')\n",
    "pipe = Pipeline([('oh', oh), ('scaler', scaler), ('sgd', sgd)])\n",
    "\n",
    "pipe.fit(X_train, y_train)\n",
    "y_hat = pipe.predict_proba(X_test)[:,1]\n",
    "\n",
    "print(\"roc_auc score on test set: {:.3f}\".format(roc_auc_score(y_test, y_hat)))"
   ]
  },
  {
   "cell_type": "markdown",
   "metadata": {},
   "source": [
    "### Logistic Regression"
   ]
  },
  {
   "cell_type": "code",
   "execution_count": 64,
   "metadata": {
    "collapsed": false
   },
   "outputs": [
    {
     "data": {
      "text/plain": [
       "({'lr__C': 10.0}, 0.79204639068344374)"
      ]
     },
     "execution_count": 64,
     "metadata": {},
     "output_type": "execute_result"
    }
   ],
   "source": [
    "oh = OneHotEncoder(categorical_features = range(11), sparse=False, handle_unknown='ignore')\n",
    "scaler = MinMaxScaler()\n",
    "lr = LogisticRegression()\n",
    "\n",
    "pipe = Pipeline([('oh', oh), ('scaler', scaler), ('lr', lr)])\n",
    "param_grid = {'lr__C' : np.logspace(-3,2,6)}\n",
    "grid = GridSearchCV(pipe, param_grid = param_grid, cv=10, scoring='roc_auc')\n",
    "grid.fit(X_train, y_train)\n",
    "grid.best_params_, grid.best_score_"
   ]
  },
  {
   "cell_type": "code",
   "execution_count": 66,
   "metadata": {
    "collapsed": false
   },
   "outputs": [
    {
     "name": "stdout",
     "output_type": "stream",
     "text": [
      "roc_auc score on test set: 0.787\n"
     ]
    }
   ],
   "source": [
    "oh = OneHotEncoder(categorical_features = range(11), sparse=False, handle_unknown='ignore')\n",
    "scaler = MinMaxScaler()\n",
    "LogReg = LogisticRegression(C=10.0)\n",
    "\n",
    "pipe = Pipeline([('oh', oh), ('scaler', scaler), ('LogReg', LogReg)])\n",
    "pipe.fit(X_train, y_train)\n",
    "y_hat = pipe.predict_proba(X_test)[:,1]\n",
    "\n",
    "print(\"roc_auc score on test set: {:.3f}\".format(roc_auc_score(y_test, y_hat)))"
   ]
  },
  {
   "cell_type": "markdown",
   "metadata": {},
   "source": [
    "### Decision Tree"
   ]
  },
  {
   "cell_type": "code",
   "execution_count": 29,
   "metadata": {
    "collapsed": false
   },
   "outputs": [
    {
     "name": "stdout",
     "output_type": "stream",
     "text": [
      "roc_auc score on test set: 0.615\n"
     ]
    }
   ],
   "source": [
    "oh = OneHotEncoder(categorical_features = range(11), sparse=False, handle_unknown='ignore')\n",
    "dt = DecisionTreeClassifier()\n",
    "pipe = Pipeline([ ('oh', oh), ('dt', dt)])\n",
    "\n",
    "pipe.fit(X_train, y_train)\n",
    "\n",
    "y_hat = pipe.predict_proba(X_test)[:,1]\n",
    "print(\"roc_auc score on test set: {:.3f}\".format(roc_auc_score(y_test, y_hat)))"
   ]
  },
  {
   "cell_type": "markdown",
   "metadata": {},
   "source": [
    "### Random Forest"
   ]
  },
  {
   "cell_type": "code",
   "execution_count": 67,
   "metadata": {
    "collapsed": false
   },
   "outputs": [
    {
     "name": "stdout",
     "output_type": "stream",
     "text": [
      "{'rf__n_estimators': 110}\n",
      "Accuracy on training set: 0.88\n",
      "Accuracy on test set: 0.79\n",
      "roc_auc score on test set: 0.79\n"
     ]
    }
   ],
   "source": [
    "oh = OneHotEncoder(categorical_features = range(11), sparse=False, handle_unknown='ignore')\n",
    "rf = RandomForestClassifier(criterion = 'entropy', max_depth=10, bootstrap = False)\n",
    "\n",
    "pipe = Pipeline([ ('oh', oh), ('rf', rf)])\n",
    "\n",
    "param_grid = { \"rf__n_estimators\"      : [80, 90, 100, 110, 120]}\n",
    "\n",
    "grid = GridSearchCV(pipe, param_grid = param_grid, cv=3, scoring='roc_auc')\n",
    "grid.fit(X_train, y_train)\n",
    "print(grid.best_params_)\n",
    "\n",
    "print(\"Accuracy on training set: {:.2f}\".format(grid.score(X_train, y_train)))\n",
    "print(\"Accuracy on test set: {:.2f}\".format(grid.score(X_test, y_test)))\n",
    "\n",
    "y_hat = grid.predict_proba(X_test)[:,1]\n",
    "print(\"roc_auc score on test set: {:.2f}\".format(roc_auc_score(y_test, y_hat)))"
   ]
  },
  {
   "cell_type": "code",
   "execution_count": 68,
   "metadata": {
    "collapsed": false
   },
   "outputs": [
    {
     "name": "stdout",
     "output_type": "stream",
     "text": [
      "roc_auc score on test set: 0.791\n"
     ]
    }
   ],
   "source": [
    "oh = OneHotEncoder(categorical_features = range(11), sparse=False, handle_unknown='ignore')\n",
    "rf = RandomForestClassifier(n_estimators = 110, criterion = 'entropy', max_depth=10, bootstrap = False)\n",
    "pipe = Pipeline([ ('oh', oh), ('rf', rf)])\n",
    "pipe.fit(X_train, y_train)\n",
    "\n",
    "y_hat = pipe.predict_proba(X_test)[:,1]\n",
    "print(\"roc_auc score on test set: {:.3f}\".format(roc_auc_score(y_test, y_hat)))"
   ]
  },
  {
   "cell_type": "markdown",
   "metadata": {},
   "source": [
    "### Gradient Boosted Tree"
   ]
  },
  {
   "cell_type": "code",
   "execution_count": 72,
   "metadata": {
    "collapsed": false
   },
   "outputs": [
    {
     "name": "stdout",
     "output_type": "stream",
     "text": [
      "roc_auc score on test set: 0.791\n"
     ]
    }
   ],
   "source": [
    "oh = OneHotEncoder(categorical_features = range(11), sparse=False, handle_unknown='ignore')\n",
    "gbrt = GradientBoostingClassifier()\n",
    "pipe = Pipeline([ ('oh', oh), ('gbrt', gbrt)])\n",
    "\n",
    "pipe.fit(X_train, y_train)\n",
    "\n",
    "y_hat = pipe.predict_proba(X_test)[:,1]\n",
    "print(\"roc_auc score on test set: {:.3f}\".format(roc_auc_score(y_test, y_hat)))"
   ]
  },
  {
   "cell_type": "markdown",
   "metadata": {},
   "source": [
    "# Step4 - Ensemble Models \n",
    "In this part, we tried ensemble methods to combine models and improvde the accuracy. the methods we tried were the following:\n",
    "\n",
    "1. Adaboost\n",
    "2. Soft Voting Classifier with a Gradient Boosting, a Logistic Regression and a Random Forest.\n",
    "3. Stacking with a Logistic Regression over the probabilities obtained with the previous Soft Voting Classifier\n",
    "\n",
    "The model that performed best and that we keep as our final model is the Soft Voting Classifier"
   ]
  },
  {
   "cell_type": "markdown",
   "metadata": {},
   "source": [
    "## AdaBoost"
   ]
  },
  {
   "cell_type": "code",
   "execution_count": 312,
   "metadata": {
    "collapsed": false
   },
   "outputs": [
    {
     "name": "stdout",
     "output_type": "stream",
     "text": [
      "{'adb__learning_rate': 0.1, 'adb__n_estimators': 300}\n",
      "Accuracy on training set: 0.81\n",
      "Accuracy on test set: 0.78\n",
      "roc_auc score on test set: 0.78\n"
     ]
    }
   ],
   "source": [
    "oh = OneHotEncoder(categorical_features = range(11), sparse=False, handle_unknown='ignore')\n",
    "adb = AdaBoostClassifier()\n",
    "\n",
    "pipe = Pipeline([ ('oh', oh), ('adb', adb)])\n",
    "\n",
    "param_grid = { \"adb__n_estimators\": [100, 200, 300],\n",
    "               \"adb__learning_rate\": [0.001, 0.01, 0.1, 1]\n",
    "             }\n",
    "\n",
    "grid = GridSearchCV(pipe, param_grid = param_grid, cv=5, scoring='roc_auc')\n",
    "grid.fit(X_train, y_train)\n",
    "print(grid.best_params_)\n",
    "\n",
    "print(\"Accuracy on training set: {:.2f}\".format(grid.score(X_train, y_train)))\n",
    "print(\"Accuracy on test set: {:.2f}\".format(grid.score(X_test, y_test)))\n",
    "\n",
    "y_hat = grid.predict_proba(X_test)[:,1]\n",
    "print(\"roc_auc score on test set: {:.2f}\".format(roc_auc_score(y_test, y_hat)))"
   ]
  },
  {
   "cell_type": "markdown",
   "metadata": {},
   "source": [
    "## Soft Voting"
   ]
  },
  {
   "cell_type": "code",
   "execution_count": 78,
   "metadata": {
    "collapsed": false
   },
   "outputs": [],
   "source": [
    "oh = OneHotEncoder(categorical_features = range(11), sparse=False, handle_unknown='ignore')\n",
    "scaler = StandardScaler(with_mean= False)\n",
    "\n",
    "gbrt = GradientBoostingClassifier()\n",
    "pipe1 = Pipeline([ ('oh', oh), ('gbrt', gbrt)])\n",
    "\n",
    "forest = RandomForestClassifier(max_depth = 15, n_estimators = 110)\n",
    "\n",
    "pipe2 = Pipeline([ ('oh', oh), ('forest', forest)])\n",
    "\n",
    "logreg = LogisticRegression(C=10)\n",
    "pipe3 = Pipeline([ ('oh', oh), ('scaler', scaler), ('logreg', logreg)])\n",
    "\n",
    "\n",
    "voting = VotingClassifier([('pipe1', pipe1), ('pipe2', pipe2), ('pipe3', pipe3)], voting='soft')\n",
    "\n",
    "softvote_score = np.mean(cross_val_score(voting, X_imputed, y, cv=10, scoring='roc_auc'))\n",
    "softvote_score"
   ]
  },
  {
   "cell_type": "code",
   "execution_count": 79,
   "metadata": {
    "collapsed": false
   },
   "outputs": [
    {
     "data": {
      "text/plain": [
       "0.79697920122387766"
      ]
     },
     "execution_count": 79,
     "metadata": {},
     "output_type": "execute_result"
    }
   ],
   "source": [
    "softvote_score"
   ]
  },
  {
   "cell_type": "markdown",
   "metadata": {},
   "source": [
    "## Stacking"
   ]
  },
  {
   "cell_type": "code",
   "execution_count": 22,
   "metadata": {
    "collapsed": false
   },
   "outputs": [
    {
     "data": {
      "text/plain": [
       "0.79428053799707532"
      ]
     },
     "execution_count": 22,
     "metadata": {},
     "output_type": "execute_result"
    }
   ],
   "source": [
    "oh = OneHotEncoder(categorical_features = range(11), sparse=False, handle_unknown='ignore')\n",
    "scaler = StandardScaler(with_mean= False)\n",
    "\n",
    "gbrt = GradientBoostingClassifier()\n",
    "pipe1 = Pipeline([ ('oh', oh), ('gbrt', gbrt)])\n",
    "\n",
    "forest = RandomForestClassifier(max_depth = 15, n_estimators = 110)\n",
    "\n",
    "pipe2 = Pipeline([ ('oh', oh), ('forest', forest)])\n",
    "\n",
    "logreg = LogisticRegression(C=10)\n",
    "pipe3 = Pipeline([ ('oh', oh), ('scaler', scaler), ('logreg', logreg)])\n",
    "\n",
    "\n",
    "voting = VotingClassifier([('pipe1', pipe1), ('pipe2', pipe2), ('pipe3', pipe3)], voting='soft')\n",
    "voting.fit(X_train, y_train)\n",
    "reshaper = FunctionTransformer(lambda X_: np.rollaxis(X_,1).reshape(-1,6)[:,1::2], validate = False)\n",
    "stage1 = Pipeline([('voting', voting), ('reshaper', reshaper)])\n",
    "transform_cv = cross_val_predict(stage1, X_train, y_train, cv=10, method='transform')\n",
    "stage2 = LogisticRegression(C=100).fit(transform_cv, y_train)\n",
    "y_hat = stage2.predict_proba(stage1.transform(X_test))[:,1]\n",
    "roc_auc_score(y_test, y_hat)"
   ]
  },
  {
   "cell_type": "markdown",
   "metadata": {},
   "source": [
    "# Resampling attempts\n",
    "\n",
    "We also tried some resamping methods to address the lack of balance of the dataset but that did not improve our results"
   ]
  },
  {
   "cell_type": "code",
   "execution_count": 23,
   "metadata": {
    "collapsed": true
   },
   "outputs": [],
   "source": [
    "###Enn\n",
    "enn = EditedNearestNeighbours(n_neighbors=1)\n",
    "oh = OneHotEncoder(categorical_features = range(11), sparse=False, handle_unknown='ignore')\n",
    "scaler = StandardScaler(with_mean= False)\n",
    "\n",
    "gbrt = GradientBoostingClassifier()\n",
    "pipe1 = Pipeline([ ('oh', oh), ('gbrt', gbrt)])\n",
    "\n",
    "forest = RandomForestClassifier(max_depth = 15, n_estimators = 110)\n",
    "\n",
    "pipe2 = Pipeline([ ('oh', oh), ('forest', forest)])\n",
    "\n",
    "logreg = LogisticRegression(C=10)\n",
    "pipe3 = Pipeline([ ('oh', oh), ('scaler', scaler), ('logreg', logreg)])\n",
    "\n",
    "\n",
    "voting = VotingClassifier([('pipe1', pipe1), ('pipe2', pipe2), ('pipe3', pipe3)], voting='soft')\n",
    "pipe = make_imb_pipeline(enn, voting)\n",
    "scores =cross_val_score(pipe, X_imputed, y, cv=10, scoring='roc_auc')"
   ]
  },
  {
   "cell_type": "code",
   "execution_count": 25,
   "metadata": {
    "collapsed": false
   },
   "outputs": [],
   "source": [
    "###Smote\n",
    "\n",
    "oh = OneHotEncoder(categorical_features = range(11), sparse=False, handle_unknown='ignore')\n",
    "scaler = StandardScaler(with_mean= False)\n",
    "\n",
    "gbrt = GradientBoostingClassifier()\n",
    "pipe1 = Pipeline([ ('oh', oh), ('gbrt', gbrt)])\n",
    "\n",
    "forest = RandomForestClassifier(max_depth = 15, n_estimators = 110)\n",
    "\n",
    "pipe2 = Pipeline([ ('oh', oh), ('forest', forest)])\n",
    "\n",
    "logreg = LogisticRegression(C=10)\n",
    "pipe3 = Pipeline([ ('oh', oh), ('scaler', scaler), ('logreg', logreg)])\n",
    "\n",
    "\n",
    "voting = VotingClassifier([('pipe1', pipe1), ('pipe2', pipe2), ('pipe3', pipe3)], voting='soft')\n",
    "pipe = make_imb_pipeline(SMOTE(k_neighbors=31), voting)\n",
    "scores =cross_val_score(pipe, X_imputed, y, cv=10, scoring='roc_auc')"
   ]
  },
  {
   "cell_type": "code",
   "execution_count": null,
   "metadata": {
    "collapsed": true
   },
   "outputs": [],
   "source": []
  }
 ],
 "metadata": {
  "anaconda-cloud": {},
  "kernelspec": {
   "display_name": "Python 3",
   "language": "python",
   "name": "python3"
  },
  "language_info": {
   "codemirror_mode": {
    "name": "ipython",
    "version": 3
   },
   "file_extension": ".py",
   "mimetype": "text/x-python",
   "name": "python",
   "nbconvert_exporter": "python",
   "pygments_lexer": "ipython3",
   "version": "3.6.0"
  }
 },
 "nbformat": 4,
 "nbformat_minor": 2
}
